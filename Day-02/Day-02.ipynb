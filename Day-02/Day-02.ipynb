{
 "cells": [
  {
   "cell_type": "markdown",
   "id": "caea2586",
   "metadata": {},
   "source": [
    "## Python Basics:"
   ]
  },
  {
   "cell_type": "markdown",
   "id": "fc7f3d73",
   "metadata": {},
   "source": [
    "## Variable:\n",
    "    - To store a value\n",
    "    - To change a value\n",
    "    Syntax:\n",
    "        variablename = value"
   ]
  },
  {
   "cell_type": "code",
   "execution_count": 2,
   "id": "d51c57bf",
   "metadata": {},
   "outputs": [
    {
     "data": {
      "text/plain": [
       "45"
      ]
     },
     "execution_count": 2,
     "metadata": {},
     "output_type": "execute_result"
    }
   ],
   "source": [
    "a"
   ]
  },
  {
   "cell_type": "code",
   "execution_count": 1,
   "id": "c87b41b6",
   "metadata": {},
   "outputs": [
    {
     "data": {
      "text/plain": [
       "45"
      ]
     },
     "execution_count": 1,
     "metadata": {},
     "output_type": "execute_result"
    }
   ],
   "source": [
    "a = 45\n",
    "a"
   ]
  },
  {
   "cell_type": "code",
   "execution_count": 3,
   "id": "49cdd961",
   "metadata": {},
   "outputs": [
    {
     "data": {
      "text/plain": [
       "56.0124"
      ]
     },
     "execution_count": 3,
     "metadata": {},
     "output_type": "execute_result"
    }
   ],
   "source": [
    "w = 12\n",
    "g = 56.0124\n",
    "w\n",
    "g"
   ]
  },
  {
   "cell_type": "code",
   "execution_count": 4,
   "id": "42669aad",
   "metadata": {},
   "outputs": [
    {
     "data": {
      "text/plain": [
       "12"
      ]
     },
     "execution_count": 4,
     "metadata": {},
     "output_type": "execute_result"
    }
   ],
   "source": [
    "g\n",
    "w"
   ]
  },
  {
   "cell_type": "code",
   "execution_count": 5,
   "id": "63f0634d",
   "metadata": {},
   "outputs": [
    {
     "data": {
      "text/plain": [
       "(56.0124, 12)"
      ]
     },
     "execution_count": 5,
     "metadata": {},
     "output_type": "execute_result"
    }
   ],
   "source": [
    "g,w"
   ]
  },
  {
   "cell_type": "code",
   "execution_count": 7,
   "id": "315d7507",
   "metadata": {},
   "outputs": [
    {
     "name": "stdout",
     "output_type": "stream",
     "text": [
      "12 89\n"
     ]
    },
    {
     "data": {
      "text/plain": [
       "(12, '89')"
      ]
     },
     "execution_count": 7,
     "metadata": {},
     "output_type": "execute_result"
    }
   ],
   "source": [
    "p = 12\n",
    "q = '89'\n",
    "print(p,q)\n",
    "p,q"
   ]
  },
  {
   "cell_type": "markdown",
   "id": "99043117",
   "metadata": {},
   "source": [
    "## Variable Assignments:\n",
    "    - single variable = single value\n",
    "    - n number of variables = n number of values\n",
    "    - single variable = n number of values\n",
    "    - n number of variables = single value"
   ]
  },
  {
   "cell_type": "code",
   "execution_count": 8,
   "id": "1bce27cd",
   "metadata": {},
   "outputs": [
    {
     "name": "stdout",
     "output_type": "stream",
     "text": [
      "45\n"
     ]
    }
   ],
   "source": [
    "# single variable = single value\n",
    "z = 45\n",
    "print(z)"
   ]
  },
  {
   "cell_type": "code",
   "execution_count": 9,
   "id": "f3e66383",
   "metadata": {},
   "outputs": [
    {
     "name": "stdout",
     "output_type": "stream",
     "text": [
      "56 23.0015454 Tilak\n"
     ]
    }
   ],
   "source": [
    "# n number of variables = n number of values\n",
    "a,b,c = 56,23.0015454,\"Tilak\"\n",
    "print(a,b,c)"
   ]
  },
  {
   "cell_type": "code",
   "execution_count": 11,
   "id": "ef3616d9",
   "metadata": {},
   "outputs": [
    {
     "ename": "ValueError",
     "evalue": "not enough values to unpack (expected 5, got 4)",
     "output_type": "error",
     "traceback": [
      "\u001b[1;31m------------------------------------------------------------------------\u001b[0m",
      "\u001b[1;31mValueError\u001b[0m                             Traceback (most recent call last)",
      "Cell \u001b[1;32mIn[11], line 1\u001b[0m\n\u001b[1;32m----> 1\u001b[0m p,q,x,t,z \u001b[38;5;241m=\u001b[39m \u001b[38;5;241m1\u001b[39m,\u001b[38;5;241m5.00\u001b[39m,\u001b[38;5;124m'\u001b[39m\u001b[38;5;124m56\u001b[39m\u001b[38;5;124m'\u001b[39m,\u001b[38;5;124m'\u001b[39m\u001b[38;5;124mKishore\u001b[39m\u001b[38;5;124m'\u001b[39m\n\u001b[0;32m      2\u001b[0m \u001b[38;5;28mprint\u001b[39m(p,q,x,t,z)\n",
      "\u001b[1;31mValueError\u001b[0m: not enough values to unpack (expected 5, got 4)"
     ]
    }
   ],
   "source": [
    "p,q,x,t,z = 1,5.00,'56','Kishore'\n",
    "print(p,q,x,t,z)"
   ]
  },
  {
   "cell_type": "code",
   "execution_count": 12,
   "id": "18d06fa3",
   "metadata": {},
   "outputs": [
    {
     "ename": "ValueError",
     "evalue": "too many values to unpack (expected 3)",
     "output_type": "error",
     "traceback": [
      "\u001b[1;31m------------------------------------------------------------------------\u001b[0m",
      "\u001b[1;31mValueError\u001b[0m                             Traceback (most recent call last)",
      "Cell \u001b[1;32mIn[12], line 1\u001b[0m\n\u001b[1;32m----> 1\u001b[0m p,q,x \u001b[38;5;241m=\u001b[39m \u001b[38;5;241m1\u001b[39m,\u001b[38;5;241m5.00\u001b[39m,\u001b[38;5;124m'\u001b[39m\u001b[38;5;124m56\u001b[39m\u001b[38;5;124m'\u001b[39m,\u001b[38;5;124m'\u001b[39m\u001b[38;5;124mKishore\u001b[39m\u001b[38;5;124m'\u001b[39m\n\u001b[0;32m      2\u001b[0m \u001b[38;5;28mprint\u001b[39m(p,q,x)\n",
      "\u001b[1;31mValueError\u001b[0m: too many values to unpack (expected 3)"
     ]
    }
   ],
   "source": [
    "p,q,x = 1,5.00,'56','Kishore'\n",
    "print(p,q,x)"
   ]
  },
  {
   "cell_type": "code",
   "execution_count": 13,
   "id": "51dc0481",
   "metadata": {},
   "outputs": [
    {
     "name": "stdout",
     "output_type": "stream",
     "text": [
      "(0.3, 36, 'Kavya')\n"
     ]
    }
   ],
   "source": [
    "# single variable = n number of values\n",
    "b = 0.3,36,'Kavya'\n",
    "print(b)"
   ]
  },
  {
   "cell_type": "code",
   "execution_count": 15,
   "id": "e3a57d5f",
   "metadata": {},
   "outputs": [
    {
     "name": "stdout",
     "output_type": "stream",
     "text": [
      "120 120 120\n",
      "2621958281296 2621958281296 2621958281296\n"
     ]
    }
   ],
   "source": [
    "# n number of variables = single value\n",
    "h = k = p = 120\n",
    "print(h,k,p)\n",
    "print(id(h),id(k),id(p))"
   ]
  },
  {
   "cell_type": "markdown",
   "id": "a6102023",
   "metadata": {},
   "source": [
    "## Data Types:\n",
    "    - int => only numbers\n",
    "    - float => both numbers and decimal values\n",
    "    - string => enclosed with ' or \"\n",
    "    - complex => real and imaginary part\n",
    "    - boolean => True or False\n",
    "    - none => None\n",
    "    - All Data Structures Like [List,Tuple,Set and Dictionary"
   ]
  },
  {
   "cell_type": "markdown",
   "id": "1b726890",
   "metadata": {},
   "source": [
    "## Type:\n",
    "    - To know the data type of a variable\n",
    "    Syntax:\n",
    "        type(variablename)"
   ]
  },
  {
   "cell_type": "code",
   "execution_count": 16,
   "id": "707121c3",
   "metadata": {},
   "outputs": [
    {
     "name": "stdout",
     "output_type": "stream",
     "text": [
      "45 <class 'str'>\n"
     ]
    },
    {
     "data": {
      "text/plain": [
       "('45', str)"
      ]
     },
     "execution_count": 16,
     "metadata": {},
     "output_type": "execute_result"
    }
   ],
   "source": [
    "w = '45'\n",
    "print(w,type(w))\n",
    "w,type(w)"
   ]
  },
  {
   "cell_type": "code",
   "execution_count": 17,
   "id": "c2859507",
   "metadata": {},
   "outputs": [
    {
     "name": "stdout",
     "output_type": "stream",
     "text": [
      "7 <class 'int'>\n",
      "56.012 <class 'float'>\n",
      "(3+5j) <class 'complex'>\n",
      "False <class 'bool'>\n",
      "None <class 'NoneType'>\n",
      "Jagadeesh <class 'str'>\n",
      "12 <class 'str'>\n"
     ]
    }
   ],
   "source": [
    "a,b,c,d,e,f,g = 7,56.012,3+5j,False,None,'Jagadeesh','12'\n",
    "print(a,type(a))\n",
    "print(b,type(b))\n",
    "print(c,type(c))\n",
    "print(d,type(d))\n",
    "print(e,type(e))\n",
    "print(f,type(f))\n",
    "print(g,type(g))"
   ]
  },
  {
   "cell_type": "markdown",
   "id": "0007e1bd",
   "metadata": {},
   "source": [
    "## Keywords or Reserved words"
   ]
  },
  {
   "cell_type": "code",
   "execution_count": 18,
   "id": "3aff662f",
   "metadata": {},
   "outputs": [],
   "source": [
    "import keyword"
   ]
  },
  {
   "cell_type": "code",
   "execution_count": 19,
   "id": "ff64ff53",
   "metadata": {},
   "outputs": [
    {
     "name": "stdout",
     "output_type": "stream",
     "text": [
      "['__all__', '__builtins__', '__cached__', '__doc__', '__file__', '__loader__', '__name__', '__package__', '__spec__', 'iskeyword', 'issoftkeyword', 'kwlist', 'softkwlist']\n"
     ]
    }
   ],
   "source": [
    "print(dir(keyword))"
   ]
  },
  {
   "cell_type": "code",
   "execution_count": 21,
   "id": "3552beb4",
   "metadata": {},
   "outputs": [
    {
     "name": "stdout",
     "output_type": "stream",
     "text": [
      "['False', 'None', 'True', '__peg_parser__', 'and', 'as', 'assert', 'async', 'await', 'break', 'class', 'continue', 'def', 'del', 'elif', 'else', 'except', 'finally', 'for', 'from', 'global', 'if', 'import', 'in', 'is', 'lambda', 'nonlocal', 'not', 'or', 'pass', 'raise', 'return', 'try', 'while', 'with', 'yield']\n",
      "36\n"
     ]
    }
   ],
   "source": [
    "print(keyword.kwlist)\n",
    "print(len(keyword.kwlist))"
   ]
  },
  {
   "cell_type": "markdown",
   "id": "79ad3d5f",
   "metadata": {},
   "source": [
    "## Operators:\n",
    "    - Arithmetic => +,-,*,/,%,//,**\n",
    "    - Logical => AND,OR,NOT\n",
    "    - Bitwise => &,|,!,>>,<<\n",
    "    - Relational => >,<,<=,>=,!=,==\n",
    "    - Membership => in,not in\n",
    "    - Identity => is, is not\n",
    "    - Assignment => +=,-=,*=,/=,%=,//=,**="
   ]
  },
  {
   "cell_type": "code",
   "execution_count": null,
   "id": "e87411e7",
   "metadata": {},
   "outputs": [],
   "source": []
  }
 ],
 "metadata": {
  "kernelspec": {
   "display_name": "Python 3 (ipykernel)",
   "language": "python",
   "name": "python3"
  },
  "language_info": {
   "codemirror_mode": {
    "name": "ipython",
    "version": 3
   },
   "file_extension": ".py",
   "mimetype": "text/x-python",
   "name": "python",
   "nbconvert_exporter": "python",
   "pygments_lexer": "ipython3",
   "version": "3.9.13"
  }
 },
 "nbformat": 4,
 "nbformat_minor": 5
}
