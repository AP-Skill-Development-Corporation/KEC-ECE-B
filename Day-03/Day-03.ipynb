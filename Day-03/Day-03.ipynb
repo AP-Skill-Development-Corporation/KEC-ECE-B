{
 "cells": [
  {
   "cell_type": "code",
   "execution_count": 2,
   "id": "257c22d9",
   "metadata": {},
   "outputs": [
    {
     "name": "stdout",
     "output_type": "stream",
     "text": [
      "23\n",
      "5\n",
      "45\n",
      "5\n"
     ]
    }
   ],
   "source": [
    "q = 45\n",
    "z = 23\n",
    "print(q and z)\n",
    "print(q & z)\n",
    "print(z and q)\n",
    "print(z & q)"
   ]
  },
  {
   "cell_type": "code",
   "execution_count": 2,
   "id": "6b9a4758",
   "metadata": {},
   "outputs": [
    {
     "name": "stdout",
     "output_type": "stream",
     "text": [
      "45\n",
      "63\n",
      "23\n",
      "63\n"
     ]
    }
   ],
   "source": [
    "print(q or z)\n",
    "print(q | z)\n",
    "print(z or q)\n",
    "print(z | q)"
   ]
  },
  {
   "cell_type": "markdown",
   "id": "b9249e30",
   "metadata": {},
   "source": [
    "## Input Formatting:\n",
    "    - By default it stores string data type value\n",
    "    - It displays an info to a user\n",
    "    - It reads a value from a user\n",
    "    Syntax:\n",
    "        variablename = input(\"Something info\")"
   ]
  },
  {
   "cell_type": "code",
   "execution_count": 9,
   "id": "3a01a81f",
   "metadata": {},
   "outputs": [
    {
     "name": "stdout",
     "output_type": "stream",
     "text": [
      "Enter a value: '45'\n",
      "'45' <class 'str'>\n"
     ]
    }
   ],
   "source": [
    "w = input(\"Enter a value: \")\n",
    "print(w,type(w))"
   ]
  },
  {
   "cell_type": "code",
   "execution_count": 4,
   "id": "021b0c91",
   "metadata": {},
   "outputs": [],
   "source": [
    "z = 45"
   ]
  },
  {
   "cell_type": "code",
   "execution_count": 3,
   "id": "ebb0b40b",
   "metadata": {},
   "outputs": [
    {
     "data": {
      "text/plain": [
       "45"
      ]
     },
     "execution_count": 3,
     "metadata": {},
     "output_type": "execute_result"
    }
   ],
   "source": [
    "q"
   ]
  },
  {
   "cell_type": "code",
   "execution_count": 10,
   "id": "a0bd7efd",
   "metadata": {},
   "outputs": [
    {
     "name": "stdout",
     "output_type": "stream",
     "text": [
      "Enter n value: 45\n",
      "Enter m value: 23.021\n",
      "45 <class 'str'>\n",
      "23.021 <class 'str'>\n"
     ]
    }
   ],
   "source": [
    "n,m = input(\"Enter n value: \"),input(\"Enter m value: \")\n",
    "print(n,type(n))\n",
    "print(m,type(m))"
   ]
  },
  {
   "cell_type": "markdown",
   "id": "e6a2145f",
   "metadata": {},
   "source": [
    "## Output Formatting:\n",
    "    - , +\n",
    "    - format specifier (%)\n",
    "    - .format\n",
    "    - f string"
   ]
  },
  {
   "cell_type": "code",
   "execution_count": 17,
   "id": "5bbb6aef",
   "metadata": {},
   "outputs": [
    {
     "name": "stdout",
     "output_type": "stream",
     "text": [
      "Enter a value: 78\n",
      "Enter b value: 5\n",
      "Addition of 78 and 5 is: 785\n",
      "Addition of 78 and 5 is: 785\n",
      "Addition of 78 and 5 is: 785\n",
      "Addition of 78 and 5 is: 785\n",
      "Addition of 5 and 78 is: 785\n",
      "Addition of 78 and 5 is: 785\n"
     ]
    }
   ],
   "source": [
    "a,b = input(\"Enter a value: \"),input(\"Enter b value: \")\n",
    "print(\"Addition of\",a,\"and\",b,\"is:\",a+b)\n",
    "print(\"Addition of \"+a+\" and \"+b+\" is: \"+a+b)\n",
    "print(\"Addition of %s and %s is: %s\"%(a,b,a+b))\n",
    "print(\"Addition of {} and {} is: {}\".format(a,b,a+b))\n",
    "print(\"Addition of {1} and {0} is: {2}\".format(a,b,a+b))\n",
    "print(f\"Addition of {a} and {b} is: {a+b}\")"
   ]
  },
  {
   "cell_type": "markdown",
   "id": "b07774fd",
   "metadata": {},
   "source": [
    "## Typecasting:\n",
    "    - To change one data type of value to another data type\n",
    "    - int()\n",
    "    - float()\n",
    "    - str()\n",
    "    - complex()\n",
    "    - All Data Structures Like[list(),tuple(),set() and dict()]"
   ]
  },
  {
   "cell_type": "code",
   "execution_count": 25,
   "id": "d6f353e1",
   "metadata": {},
   "outputs": [
    {
     "name": "stdout",
     "output_type": "stream",
     "text": [
      "Enter a value: 4\n",
      "Enter b value: 50\n",
      "Addition of 4 and 50 is: 54\n",
      "Addition of 4 and 50 is: 54\n",
      "Addition of 4 and 50 is: 54\n",
      "Addition of 4 and 50 is: 54\n",
      "Addition of 50 and 4 is: 54\n",
      "Addition of 4 and 50 is: 54\n"
     ]
    }
   ],
   "source": [
    "a,b = input(\"Enter a value: \"),input(\"Enter b value: \")\n",
    "print(\"Addition of\",a,\"and\",b,\"is:\",int(a)+int(b))\n",
    "print(\"Addition of \"+a+\" and \"+b+\" is: \"+str(int(a)+int(b)))\n",
    "print(\"Addition of %s and %s is: %d\"%(a,b,int(a)+int(b)))\n",
    "print(\"Addition of {} and {} is: {}\".format(a,b,int(a)+int(b)))\n",
    "print(\"Addition of {1} and {0} is: {2}\".format(a,b,int(a)+int(b)))\n",
    "print(f\"Addition of {a} and {b} is: {int(a)+int(b)}\")"
   ]
  },
  {
   "cell_type": "code",
   "execution_count": 26,
   "id": "1ce527f4",
   "metadata": {},
   "outputs": [
    {
     "name": "stdout",
     "output_type": "stream",
     "text": [
      "Enter a value: 23\n",
      "23 <class 'str'>\n",
      "23 <class 'int'> 23 <class 'str'>\n"
     ]
    }
   ],
   "source": [
    "q = input(\"Enter a value: \")\n",
    "print(q,type(q))\n",
    "z = int(q)\n",
    "print(z,type(z),q,type(q))"
   ]
  },
  {
   "cell_type": "code",
   "execution_count": 29,
   "id": "df81a94a",
   "metadata": {},
   "outputs": [
    {
     "name": "stdout",
     "output_type": "stream",
     "text": [
      "Enter a value: 78\n",
      "78 <class 'int'>\n"
     ]
    }
   ],
   "source": [
    "a = int(input(\"Enter a value: \"))\n",
    "print(a,type(a))"
   ]
  },
  {
   "cell_type": "code",
   "execution_count": 31,
   "id": "1e6a98bc",
   "metadata": {},
   "outputs": [
    {
     "name": "stdout",
     "output_type": "stream",
     "text": [
      "Enter w value: 23.0121\n",
      "23.0121 <class 'float'>\n"
     ]
    }
   ],
   "source": [
    "w = float(input(\"Enter w value: \"))\n",
    "print(w,type(w))"
   ]
  },
  {
   "cell_type": "markdown",
   "id": "83abcc7a",
   "metadata": {},
   "source": [
    "## Task:\n",
    "    Input:\n",
    "        Enter a value: ?\n",
    "        Enter b value: ?\n",
    "    Output:\n",
    "        Entered a value is: '?.000'\n",
    "        Entered b value is: ?.0000\n",
    "        Value of a is: ? and b is: ?\n",
    "        Value of a is: ?.00 and b is: ?.00"
   ]
  },
  {
   "cell_type": "code",
   "execution_count": 36,
   "id": "c4c06ace",
   "metadata": {},
   "outputs": [
    {
     "name": "stdout",
     "output_type": "stream",
     "text": [
      "45.0000\n"
     ]
    }
   ],
   "source": [
    "z = 45\n",
    "print(\"{:.4f}\".format(z))"
   ]
  },
  {
   "cell_type": "code",
   "execution_count": 40,
   "id": "9caec473",
   "metadata": {},
   "outputs": [
    {
     "name": "stdout",
     "output_type": "stream",
     "text": [
      "Enter a value: 12\n",
      "Enter b value: 56\n",
      "Entered a value is: '12.000'\n",
      "Entered b value is: 56.0000\n",
      "Value of a is: 12 and b is: 56\n",
      "Value of a is: 12.00 and b is: 56.00\n"
     ]
    }
   ],
   "source": [
    "a,b = int(input(\"Enter a value: \")),int(input(\"Enter b value: \"))\n",
    "print(\"Entered a value is: '{:.3f}'\".format(a))\n",
    "print(\"Entered b value is: {:.4f}\".format(b))\n",
    "print(\"Value of a is: {} and b is: {}\".format(a,b))\n",
    "print(\"Value of a is: {:.2f} and b is: {:.2f}\".format(a,b))"
   ]
  },
  {
   "cell_type": "markdown",
   "id": "d66c58f6",
   "metadata": {},
   "source": [
    "## Conditional Statements:\n",
    "    - if\n",
    "    - if-else\n",
    "    - elif\n",
    "    - nested if"
   ]
  },
  {
   "cell_type": "code",
   "execution_count": null,
   "id": "bdd947b2",
   "metadata": {},
   "outputs": [],
   "source": []
  }
 ],
 "metadata": {
  "kernelspec": {
   "display_name": "Python 3 (ipykernel)",
   "language": "python",
   "name": "python3"
  },
  "language_info": {
   "codemirror_mode": {
    "name": "ipython",
    "version": 3
   },
   "file_extension": ".py",
   "mimetype": "text/x-python",
   "name": "python",
   "nbconvert_exporter": "python",
   "pygments_lexer": "ipython3",
   "version": "3.9.13"
  }
 },
 "nbformat": 4,
 "nbformat_minor": 5
}
