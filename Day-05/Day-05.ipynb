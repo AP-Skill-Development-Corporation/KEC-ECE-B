{
 "cells": [
  {
   "cell_type": "code",
   "execution_count": 1,
   "id": "4b602822",
   "metadata": {},
   "outputs": [
    {
     "name": "stdout",
     "output_type": "stream",
     "text": [
      "Enter a range: 100\n",
      "1 2 3 4 "
     ]
    }
   ],
   "source": [
    "n = int(input(\"Enter a range: \"))\n",
    "for i in range(1,n):\n",
    "    if i == 5:\n",
    "        break\n",
    "    else:\n",
    "        print(i,end=\" \")"
   ]
  },
  {
   "cell_type": "code",
   "execution_count": 2,
   "id": "436efade",
   "metadata": {},
   "outputs": [
    {
     "name": "stdout",
     "output_type": "stream",
     "text": [
      "Enter a range: 100\n",
      "1 2 3 4 "
     ]
    }
   ],
   "source": [
    "n = int(input(\"Enter a range: \"))\n",
    "for i in range(1,n):\n",
    "    if i == 5:\n",
    "        break\n",
    "    print(i,end=\" \")"
   ]
  },
  {
   "cell_type": "code",
   "execution_count": 3,
   "id": "f71ca035",
   "metadata": {},
   "outputs": [
    {
     "name": "stdout",
     "output_type": "stream",
     "text": [
      "Enter a range: 10\n",
      "1 2 3 4 6 7 8 9 "
     ]
    }
   ],
   "source": [
    "n = int(input(\"Enter a range: \"))\n",
    "for i in range(1,n):\n",
    "    if i == 5:\n",
    "        continue\n",
    "    else:\n",
    "        print(i,end=\" \")"
   ]
  },
  {
   "cell_type": "code",
   "execution_count": 4,
   "id": "8cc96ac5",
   "metadata": {},
   "outputs": [
    {
     "name": "stdout",
     "output_type": "stream",
     "text": [
      "Enter a range: 10\n",
      "1 2 3 4 6 7 8 9 "
     ]
    }
   ],
   "source": [
    "n = int(input(\"Enter a range: \"))\n",
    "for i in range(1,n):\n",
    "    if i == 5:\n",
    "        continue\n",
    "    print(i,end=\" \")"
   ]
  },
  {
   "cell_type": "code",
   "execution_count": 5,
   "id": "22717145",
   "metadata": {},
   "outputs": [
    {
     "name": "stdout",
     "output_type": "stream",
     "text": [
      "Enter a range: 20\n",
      "1 2 3 4 6 7 8 9 10 11 12 13 14 15 16 17 18 19 "
     ]
    }
   ],
   "source": [
    "n = int(input(\"Enter a range: \"))\n",
    "for i in range(1,n):\n",
    "    if i == 5:\n",
    "        pass\n",
    "    else:\n",
    "        print(i,end=\" \")"
   ]
  },
  {
   "cell_type": "code",
   "execution_count": 6,
   "id": "792d4440",
   "metadata": {},
   "outputs": [
    {
     "name": "stdout",
     "output_type": "stream",
     "text": [
      "Enter a range: 10\n",
      "1 2 3 4 5 6 7 8 9 "
     ]
    }
   ],
   "source": [
    "n = int(input(\"Enter a range: \"))\n",
    "for i in range(1,n):\n",
    "    if i == 5:\n",
    "        pass\n",
    "    print(i,end=\" \")"
   ]
  },
  {
   "cell_type": "markdown",
   "id": "8f23353f",
   "metadata": {},
   "source": [
    "### Task:\n",
    "    Input:\n",
    "        Enter a number: 3\n",
    "        Enter 1 number: 5\n",
    "        Enter 2 number: 10\n",
    "        Enter 3 number: 23 \n",
    "    Output:\n",
    "        Entered number 5 is Odd value is: -1\n",
    "        Entered number 10 is Even value is: 0\n",
    "        Entered number 23 is Odd value is: -1"
   ]
  },
  {
   "cell_type": "code",
   "execution_count": 10,
   "id": "b2504450",
   "metadata": {},
   "outputs": [
    {
     "name": "stdout",
     "output_type": "stream",
     "text": [
      "Enter a number: 3\n",
      "Enter 1 number: 2\n",
      "Entered number 2 is Even value is: 0\n",
      "Enter 2 number: 3\n",
      "Entered number 3 is odd value is: -1\n",
      "Enter 3 number: 2\n",
      "Entered number 2 is Even value is: 0\n"
     ]
    }
   ],
   "source": [
    "p=int(input(\"Enter a number: \"))\n",
    "for i in range(1,p+1):\n",
    "    a=int(input(f\"Enter {i} number: \"))\n",
    "    if a%2==0:\n",
    "        print(f\"Entered number {a} is Even value is: 0\")\n",
    "    else:\n",
    "        print(f\"Entered number {a} is odd value is: -1\")"
   ]
  },
  {
   "cell_type": "markdown",
   "id": "aaa60592",
   "metadata": {},
   "source": [
    "### Task:\n",
    "    Input:\n",
    "        Enter a number: 4\n",
    "        Enter your choice: 1\n",
    "        Enter a number: 2548\n",
    "        Enter your choice: 3\n",
    "        Enter a number: 12\n",
    "        Enter your choice: 2\n",
    "        \n",
    "    Output:\n",
    "        Reverse is: 8452\n",
    "        Digit count of 12 is: 2 \n",
    "        Thankyou Bye. "
   ]
  },
  {
   "cell_type": "code",
   "execution_count": 7,
   "id": "892fce09",
   "metadata": {},
   "outputs": [
    {
     "name": "stdout",
     "output_type": "stream",
     "text": [
      "enter the number :2\n",
      "enter the choice :1\n",
      "enter the number :2873646234\n",
      "the reverse is :4326463782\n",
      "enter the choice :2\n",
      "thankyou bye.\n"
     ]
    }
   ],
   "source": [
    "n=int(input(\"enter the number :\"))\n",
    "for i in range (1,n+1):\n",
    "    c=int(input(\"enter the choice :\"))\n",
    "    if(c==1):\n",
    "        t=int(input(\"enter the number :\"))\n",
    "        r=0\n",
    "        while t!=0:\n",
    "            r=r*10+t%10\n",
    "            t//=10\n",
    "        print(f\"the reverse is :{r}\")\n",
    "    elif(c==2):\n",
    "        print(\"thankyou bye.\")\n",
    "        break\n",
    "    elif c==3:\n",
    "        k = int(input(\"Enter a number: \"))\n",
    "        g,m = 0,k\n",
    "        while k!=0:\n",
    "            g+=1\n",
    "            k//=10\n",
    "        print(f\"Digit count of {m} is: {g}\")\n",
    "    else:\n",
    "        pass"
   ]
  },
  {
   "cell_type": "markdown",
   "id": "767cf790",
   "metadata": {},
   "source": [
    "### Inner Loop or Nested Loop\n",
    "    - Loop within a loop"
   ]
  },
  {
   "cell_type": "code",
   "execution_count": 12,
   "id": "de71a16b",
   "metadata": {},
   "outputs": [
    {
     "name": "stdout",
     "output_type": "stream",
     "text": [
      "Enter a range: 3\n",
      "00 01 02 \n",
      "10 11 12 \n",
      "20 21 22 \n"
     ]
    }
   ],
   "source": [
    "k = int(input(\"Enter a range: \"))\n",
    "for i in range(k):\n",
    "    for j in range(k):\n",
    "        print(f\"{i}{j}\",end=\" \")\n",
    "    print()"
   ]
  },
  {
   "cell_type": "code",
   "execution_count": 13,
   "id": "9f5bffc1",
   "metadata": {},
   "outputs": [
    {
     "name": "stdout",
     "output_type": "stream",
     "text": [
      "Enter a range: 5\n",
      "* * * * * \n",
      "* * * * * \n",
      "* * * * * \n",
      "* * * * * \n",
      "* * * * * \n"
     ]
    }
   ],
   "source": [
    "k = int(input(\"Enter a range: \"))\n",
    "for i in range(k):\n",
    "    for j in range(k):\n",
    "        print(\"*\",end=\" \")\n",
    "    print()"
   ]
  },
  {
   "cell_type": "code",
   "execution_count": 15,
   "id": "aa720c7a",
   "metadata": {},
   "outputs": [
    {
     "name": "stdout",
     "output_type": "stream",
     "text": [
      "Enter a range: 5\n",
      "* \n",
      "* * \n",
      "* * * \n",
      "* * * * \n",
      "* * * * * \n"
     ]
    }
   ],
   "source": [
    "k = int(input(\"Enter a range: \"))\n",
    "for i in range(k):\n",
    "    for j in range(i+1):\n",
    "        print(\"*\",end=\" \")\n",
    "    print()"
   ]
  },
  {
   "cell_type": "code",
   "execution_count": 20,
   "id": "5f94cb11",
   "metadata": {},
   "outputs": [
    {
     "name": "stdout",
     "output_type": "stream",
     "text": [
      "1 \u0001\t2 \u0002\t3 \u0003\t4 \u0004\t5 \u0005\t6 \u0006\t7 \u0007\t8 \b\t9 \t\t10 \n",
      "\t11 \u000b",
      "\t12 \f",
      "\t13 \r",
      "\t14 \u000e\t15 \u000f\t16 \u0010\t17 \u0011\t18 \u0012\t19 \u0013\t20 \u0014\t21 \u0015\t22 \u0016\t23 \u0017\t24 \u0018\t25 \u0019\t26 \u001a\t27 \u001b\t28 \u001c",
      "\t29 \u001d",
      "\t30 \u001e",
      "\t31 \u001f\t32  \t33 !\t34 \"\t35 #\t36 $\t37 %\t38 &\t39 '\t40 (\t41 )\t42 *\t43 +\t44 ,\t45 -\t46 .\t47 /\t48 0\t49 1\t50 2\t51 3\t52 4\t53 5\t54 6\t55 7\t56 8\t57 9\t58 :\t59 ;\t60 <\t61 =\t62 >\t63 ?\t64 @\t65 A\t66 B\t67 C\t68 D\t69 E\t70 F\t71 G\t72 H\t73 I\t74 J\t75 K\t76 L\t77 M\t78 N\t79 O\t80 P\t81 Q\t82 R\t83 S\t84 T\t85 U\t86 V\t87 W\t88 X\t89 Y\t90 Z\t91 [\t92 \\\t93 ]\t94 ^\t95 _\t96 `\t97 a\t98 b\t99 c\t100 d\t101 e\t102 f\t103 g\t104 h\t105 i\t106 j\t107 k\t108 l\t109 m\t110 n\t111 o\t112 p\t113 q\t114 r\t115 s\t116 t\t117 u\t118 v\t119 w\t120 x\t121 y\t122 z\t123 {\t124 |\t125 }\t126 ~\t127 \t128 \t129 \t130 \t131 \t132 \t133 ",
      "\t134 \t135 \t136 \t137 \t138 \t139 \t140 \t141 \t142 \t143 \t144 \t145 \t146 \t147 \t148 \t149 \t150 \t151 \t152 \t153 \t154 \t155 \t156 \t157 \t158 \t159 \t160  \t161 ¡\t162 ¢\t163 £\t164 ¤\t165 ¥\t166 ¦\t167 §\t168 ¨\t169 ©\t170 ª\t171 «\t172 ¬\t173 ­\t174 ®\t175 ¯\t176 °\t177 ±\t178 ²\t179 ³\t180 ´\t181 µ\t182 ¶\t183 ·\t184 ¸\t185 ¹\t186 º\t187 »\t188 ¼\t189 ½\t190 ¾\t191 ¿\t192 À\t193 Á\t194 Â\t195 Ã\t196 Ä\t197 Å\t198 Æ\t199 Ç\t200 È\t201 É\t202 Ê\t203 Ë\t204 Ì\t205 Í\t206 Î\t207 Ï\t208 Ð\t209 Ñ\t210 Ò\t211 Ó\t212 Ô\t213 Õ\t214 Ö\t215 ×\t216 Ø\t217 Ù\t218 Ú\t219 Û\t220 Ü\t221 Ý\t222 Þ\t223 ß\t224 à\t225 á\t226 â\t227 ã\t228 ä\t229 å\t230 æ\t231 ç\t232 è\t233 é\t234 ê\t235 ë\t236 ì\t237 í\t238 î\t239 ï\t240 ð\t241 ñ\t242 ò\t243 ó\t244 ô\t245 õ\t246 ö\t247 ÷\t248 ø\t249 ù\t250 ú\t251 û\t252 ü\t253 ý\t254 þ\t255 ÿ\t256 Ā\t"
     ]
    }
   ],
   "source": [
    "for i in range(1,257):\n",
    "    print(i, chr(i),end = \"\\t\")"
   ]
  },
  {
   "cell_type": "code",
   "execution_count": 21,
   "id": "6c5dbf7b",
   "metadata": {},
   "outputs": [
    {
     "name": "stdout",
     "output_type": "stream",
     "text": [
      "Enter a character: A\n",
      "Entered Character A and its ASCII value is 65\n"
     ]
    }
   ],
   "source": [
    "n = input(\"Enter a character: \")\n",
    "print(f\"Entered Character {n} and its ASCII value is {ord(n)}\")"
   ]
  },
  {
   "cell_type": "code",
   "execution_count": 24,
   "id": "c605eba8",
   "metadata": {},
   "outputs": [
    {
     "name": "stdout",
     "output_type": "stream",
     "text": [
      "enter a range: 2\n",
      "A0 A1 \n",
      "B0 B1 \n"
     ]
    }
   ],
   "source": [
    "n=int(input(\"enter a range: \"))\n",
    "for i in range(n):\n",
    "    for j in range(n):\n",
    "        print(f\"{chr(65+i)}{j}\",end=\" \")\n",
    "    print()    \n"
   ]
  },
  {
   "cell_type": "code",
   "execution_count": 39,
   "id": "2285f65d",
   "metadata": {},
   "outputs": [
    {
     "name": "stdout",
     "output_type": "stream",
     "text": [
      "## ** ## ** ## ** ## \n",
      "** ## ** 11 ** 13 ** \n",
      "15 ** 17 ** 19 ** 21 \n",
      "** 23 ** 25 ** 27 ** \n",
      "29 ** 31 \n"
     ]
    }
   ],
   "source": [
    "a=1\n",
    "for i in range(5):\n",
    "    for j in range(7):\n",
    "        if a>31:\n",
    "            break\n",
    "        else:\n",
    "            if a%2==0:\n",
    "                print(\"**\",end=\" \")\n",
    "            elif a<10:\n",
    "                print(\"##\",end=\" \")\n",
    "            else:\n",
    "                print(f\"{a:02}\",end=\" \")       \n",
    "        a=a+1\n",
    "    print()"
   ]
  },
  {
   "cell_type": "code",
   "execution_count": null,
   "id": "1e1eb5e7",
   "metadata": {},
   "outputs": [],
   "source": []
  }
 ],
 "metadata": {
  "kernelspec": {
   "display_name": "Python 3 (ipykernel)",
   "language": "python",
   "name": "python3"
  },
  "language_info": {
   "codemirror_mode": {
    "name": "ipython",
    "version": 3
   },
   "file_extension": ".py",
   "mimetype": "text/x-python",
   "name": "python",
   "nbconvert_exporter": "python",
   "pygments_lexer": "ipython3",
   "version": "3.9.13"
  }
 },
 "nbformat": 4,
 "nbformat_minor": 5
}
