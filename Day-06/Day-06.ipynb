{
 "cells": [
  {
   "cell_type": "code",
   "execution_count": 5,
   "id": "b76141e9",
   "metadata": {},
   "outputs": [
    {
     "name": "stdout",
     "output_type": "stream",
     "text": [
      "## ** || ** ## ** ## \n",
      "&& && && && && && && \n",
      "[] ** || ** [] ** [] \n",
      "** [] || () ** () ** \n",
      "() ** || \n"
     ]
    }
   ],
   "source": [
    "a=1\n",
    "for i in range(5):\n",
    "    for j in range(7):\n",
    "        if a>31:\n",
    "            break\n",
    "        else:\n",
    "            if i == 1:\n",
    "                print(\"&&\",end=\" \")\n",
    "            elif j == 2:\n",
    "                print(\"||\",end=\" \")\n",
    "            elif a%2==0:\n",
    "                print(\"**\",end=\" \")\n",
    "            elif a<10:\n",
    "                print(\"##\",end=\" \")\n",
    "            elif a>=25:\n",
    "                print(\"()\",end=\" \")\n",
    "            else:\n",
    "                print(\"[]\",end=\" \")       \n",
    "        a=a+1\n",
    "    print()"
   ]
  },
  {
   "cell_type": "code",
   "execution_count": 9,
   "id": "d1727234",
   "metadata": {},
   "outputs": [
    {
     "name": "stdout",
     "output_type": "stream",
     "text": [
      "Enter a range: 2\n",
      "Enter size of values to read: 2\n",
      "Enter a value: 12\n",
      "12\n",
      "Enter a value: 34\n",
      "34\n",
      "\n",
      "Enter size of values to read: 3\n",
      "Enter a value: 12\n",
      "12\n",
      "Enter a value: 56\n",
      "56\n",
      "Enter a value: 78\n",
      "78\n",
      "\n"
     ]
    }
   ],
   "source": [
    "h = int(input(\"Enter a range: \"))\n",
    "for i in range(1,h+1):\n",
    "    k = int(input(\"Enter size of values to read: \"))\n",
    "    for j in range(1,k+1):\n",
    "        b = int(input(\"Enter a value: \"))\n",
    "        print(b)\n",
    "    print()"
   ]
  },
  {
   "cell_type": "markdown",
   "id": "8be3972e",
   "metadata": {},
   "source": []
  }
 ],
 "metadata": {
  "kernelspec": {
   "display_name": "Python 3 (ipykernel)",
   "language": "python",
   "name": "python3"
  },
  "language_info": {
   "codemirror_mode": {
    "name": "ipython",
    "version": 3
   },
   "file_extension": ".py",
   "mimetype": "text/x-python",
   "name": "python",
   "nbconvert_exporter": "python",
   "pygments_lexer": "ipython3",
   "version": "3.9.13"
  }
 },
 "nbformat": 4,
 "nbformat_minor": 5
}
