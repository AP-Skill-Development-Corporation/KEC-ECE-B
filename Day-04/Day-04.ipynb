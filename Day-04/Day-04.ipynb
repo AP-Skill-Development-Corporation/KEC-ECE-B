{
 "cells": [
  {
   "cell_type": "markdown",
   "id": "9892ebb1",
   "metadata": {},
   "source": [
    "## if\n",
    "    Syntax:\n",
    "        if condition:\n",
    "            //statements\n",
    "        () => Optional"
   ]
  },
  {
   "cell_type": "code",
   "execution_count": 2,
   "id": "a52d3c38",
   "metadata": {},
   "outputs": [
    {
     "name": "stdout",
     "output_type": "stream",
     "text": [
      "Enter a value: 5\n"
     ]
    }
   ],
   "source": [
    "n = int(input(\"Enter a value: \"))\n",
    "if n%3==0:\n",
    "    print(f\"Entered number {n} is divisible by 3\")"
   ]
  },
  {
   "cell_type": "markdown",
   "id": "42f728e3",
   "metadata": {},
   "source": [
    "## Task:\n",
    "    Expression: 12x^4+56y^3+26z^2+10a\n",
    "    \n",
    "    Output:\n",
    "        Given Expression 12x^4+56y^3+26z^2+10a is: ?"
   ]
  },
  {
   "cell_type": "code",
   "execution_count": 5,
   "id": "ff4568d6",
   "metadata": {},
   "outputs": [
    {
     "name": "stdout",
     "output_type": "stream",
     "text": [
      "Enter the value:5\n"
     ]
    }
   ],
   "source": [
    "n = int(input(\"Enter the value:\"))\n",
    "if n%6==0:\n",
    "    x = int(input(\"Enter the value of x:\"))\n",
    "    y = int(input(\"Enter the value of y:\"))\n",
    "    z = int(input(\"Enter the value of z:\"))\n",
    "    a = int(input(\"Enter the value of a:\"))    \n",
    "    c = 12*(x**4)+56*(y**3)+26*(z**2)+10*a\n",
    "    print(f\"Given Expression 12x^4+56y^3+26z^2+10a is:{c}\")"
   ]
  },
  {
   "cell_type": "code",
   "execution_count": 7,
   "id": "1dc53acb",
   "metadata": {},
   "outputs": [
    {
     "name": "stdout",
     "output_type": "stream",
     "text": [
      "Enter a number: 15\n",
      "Enter x value: 1\n",
      "Given Expression 5x^3 is: 5\n"
     ]
    }
   ],
   "source": [
    "n = int(input(\"Enter a number: \"))\n",
    "if n%2==0 or n%5==0:\n",
    "    x = int(input(\"Enter x value: \"))\n",
    "    print(f\"Given Expression 5x^3 is: {5*x**3}\")"
   ]
  },
  {
   "cell_type": "markdown",
   "id": "2a7fb6a0",
   "metadata": {},
   "source": [
    "## If-else:\n",
    "    Syntax:\n",
    "        if condition:\n",
    "            //statement-1\n",
    "        else:\n",
    "            //statement-2\n",
    "        () => Optional"
   ]
  },
  {
   "cell_type": "code",
   "execution_count": 12,
   "id": "d7c9837c",
   "metadata": {},
   "outputs": [
    {
     "name": "stdout",
     "output_type": "stream",
     "text": [
      "Enter x value: 0\n",
      "Entered value 0 is equal to 4x^2\n"
     ]
    }
   ],
   "source": [
    "x = int(input(\"Enter x value: \"))\n",
    "if x == 4*x**2:\n",
    "    print(f\"Entered value {x} is equal to 4x^2\")\n",
    "else:\n",
    "    print(f\"Entered value {x} is not equal to 4x^2\")"
   ]
  },
  {
   "cell_type": "markdown",
   "id": "a86fb006",
   "metadata": {},
   "source": [
    "## Task\n",
    "    Input-1:\n",
    "        Enter Your age: 16\n",
    "    Output-1:\n",
    "        Your Not Eligible for voting and need to wait for 2 Years\n",
    "    \n",
    "    Input-2:\n",
    "        Enter Your age: 20\n",
    "    Output-2:\n",
    "        Your Eligible for voting and exceeded with 2 Years"
   ]
  },
  {
   "cell_type": "code",
   "execution_count": 14,
   "id": "db8c6958",
   "metadata": {},
   "outputs": [
    {
     "name": "stdout",
     "output_type": "stream",
     "text": [
      "Enter Your age: 30\n",
      "Your Eligible for voting and exceeded with 12 Years\n"
     ]
    }
   ],
   "source": [
    "w = int(input(\"Enter Your age: \"))\n",
    "if w>18:\n",
    "    print(f\"Your Eligible for voting and exceeded with {w-18} Years\")\n",
    "else:\n",
    "    print(f\"Your Not Eligible for voting and need to wait for {18-w} Years\")"
   ]
  },
  {
   "cell_type": "markdown",
   "id": "e912cd00",
   "metadata": {},
   "source": [
    "## Nested if:\n",
    "    Syntax:\n",
    "        if condition-1:\n",
    "            if condition-2:\n",
    "                //statement-1\n",
    "            else:\n",
    "                //statement-2\n",
    "        else:\n",
    "            statement-n"
   ]
  },
  {
   "cell_type": "code",
   "execution_count": 17,
   "id": "dcacd922",
   "metadata": {},
   "outputs": [
    {
     "name": "stdout",
     "output_type": "stream",
     "text": [
      "Enter a number: 49\n",
      "Entered number 49 is divisible by 7\n"
     ]
    }
   ],
   "source": [
    "p = int(input(\"Enter a number: \"))\n",
    "if p>300:\n",
    "    print(f\"Entered number {p} is greater than 300\")\n",
    "else:\n",
    "    if p%7==0:\n",
    "        print(f\"Entered number {p} is divisible by 7\")\n",
    "    else:\n",
    "        print(f\"Entered number {p} is not divisible by 7\")"
   ]
  },
  {
   "cell_type": "markdown",
   "id": "93416521",
   "metadata": {},
   "source": [
    "## Elif\n",
    "    Syntax:\n",
    "        if condition-1:\n",
    "            //statement-1\n",
    "        elif condition-2:\n",
    "            //statement-2\n",
    "            |          |\n",
    "        elif condition-n:\n",
    "            //statement-n\n",
    "        else:\n",
    "            //statement-(n-2)"
   ]
  },
  {
   "cell_type": "code",
   "execution_count": 25,
   "id": "d6ff8dcc",
   "metadata": {},
   "outputs": [
    {
     "name": "stdout",
     "output_type": "stream",
     "text": [
      "Enter a value: 21\n",
      "Odd\n"
     ]
    }
   ],
   "source": [
    "n = int(input(\"Enter a value: \"))\n",
    "if n%2==0 and n<10:\n",
    "    print(f\"Entered number {n} is Even and Less than 10\")\n",
    "elif n%5==0:\n",
    "    print(f\"Entered number {n} is divisible by 5\")\n",
    "elif n%2==0:\n",
    "    print(\"Even\")\n",
    "else:\n",
    "    print(\"Odd\")"
   ]
  },
  {
   "cell_type": "markdown",
   "id": "3454eb7b",
   "metadata": {},
   "source": [
    "## Loops:\n",
    "    - To iterate n number of statement for n number of times\n",
    "    - for => Known ranges\n",
    "    - while => Known and unknown ranges"
   ]
  },
  {
   "cell_type": "markdown",
   "id": "23640820",
   "metadata": {},
   "source": [
    "### for\n",
    "    Syntax:\n",
    "        for iterationvariablename in range(start,stop,step):\n",
    "            //statements\n",
    "            \n",
    "                    or\n",
    "        for iterationvariablename in sequence:\n",
    "            //statements\n",
    "        \n",
    "        Sequence => Data Structures[list,tuple,set,string and dictionary]"
   ]
  },
  {
   "cell_type": "markdown",
   "id": "5cf9784c",
   "metadata": {},
   "source": [
    "### range:\n",
    "    - range(stop)\n",
    "        - By default it stats with 0\n",
    "        - It ends with stop - 1 value\n",
    "        - By default it increments with +1 value\n",
    "        Ex:\n",
    "            range(8)\n",
    "            0 1 2 3 4 5 6 7\n",
    "    - range(start,stop)\n",
    "        - It stats with exactly start value\n",
    "        - It ends with stop - 1 value\n",
    "        - By default it increments with +1 value\n",
    "        Ex:\n",
    "            range(4,10)\n",
    "            4 5 6 7 8 9\n",
    "    - range(start,stop,step)\n",
    "        - It stats with exactly with start value\n",
    "        - It ends with stop - 1 value\n",
    "        - It increments/decrements with step value\n",
    "        Ex:\n",
    "            range(1,10,3)\n",
    "            1 4 7"
   ]
  },
  {
   "cell_type": "code",
   "execution_count": 26,
   "id": "a66b68e4",
   "metadata": {},
   "outputs": [
    {
     "name": "stdout",
     "output_type": "stream",
     "text": [
      "Enter a range: 5\n",
      "0\n",
      "1\n",
      "2\n",
      "3\n",
      "4\n"
     ]
    }
   ],
   "source": [
    "n = int(input(\"Enter a range: \"))\n",
    "for i in range(n):\n",
    "    print(i)"
   ]
  },
  {
   "cell_type": "code",
   "execution_count": 27,
   "id": "e92a4db5",
   "metadata": {},
   "outputs": [
    {
     "name": "stdout",
     "output_type": "stream",
     "text": [
      "Help on built-in function print in module builtins:\n",
      "\n",
      "print(...)\n",
      "    print(value, ..., sep=' ', end='\\n', file=sys.stdout, flush=False)\n",
      "    \n",
      "    Prints the values to a stream, or to sys.stdout by default.\n",
      "    Optional keyword arguments:\n",
      "    file:  a file-like object (stream); defaults to the current sys.stdout.\n",
      "    sep:   string inserted between values, default a space.\n",
      "    end:   string appended after the last value, default a newline.\n",
      "    flush: whether to forcibly flush the stream.\n",
      "\n"
     ]
    }
   ],
   "source": [
    "help(print)"
   ]
  },
  {
   "cell_type": "code",
   "execution_count": 28,
   "id": "8fff48ea",
   "metadata": {},
   "outputs": [
    {
     "name": "stdout",
     "output_type": "stream",
     "text": [
      "print(value, ..., sep=' ', end='\\n', file=sys.stdout, flush=False)\n",
      "\n",
      "Prints the values to a stream, or to sys.stdout by default.\n",
      "Optional keyword arguments:\n",
      "file:  a file-like object (stream); defaults to the current sys.stdout.\n",
      "sep:   string inserted between values, default a space.\n",
      "end:   string appended after the last value, default a newline.\n",
      "flush: whether to forcibly flush the stream.\n"
     ]
    }
   ],
   "source": [
    "print(print.__doc__)"
   ]
  },
  {
   "cell_type": "code",
   "execution_count": 32,
   "id": "ebf88c48",
   "metadata": {},
   "outputs": [
    {
     "name": "stdout",
     "output_type": "stream",
     "text": [
      "Enter a range: 40\n",
      "0 1 2 3 4 5 6 7 8 9 10 11 12 13 14 15 16 17 18 19 20 21 22 23 24 25 26 27 28 29 30 31 32 33 34 35 36 37 38 39 "
     ]
    }
   ],
   "source": [
    "n = int(input(\"Enter a range: \"))\n",
    "for i in range(n):\n",
    "    print(i,end=\" \")"
   ]
  },
  {
   "cell_type": "code",
   "execution_count": 35,
   "id": "b598d42e",
   "metadata": {},
   "outputs": [
    {
     "name": "stdout",
     "output_type": "stream",
     "text": [
      "Enter start range: 10\n",
      "Enter end range: 20\n",
      "19 18 17 16 15 14 13 12 11 10 "
     ]
    }
   ],
   "source": [
    "n = int(input(\"Enter start range: \"))\n",
    "m = int(input(\"Enter end range: \"))\n",
    "for i in range(n,m):\n",
    "    print(n+m-i-1,end=\" \")"
   ]
  },
  {
   "cell_type": "code",
   "execution_count": 37,
   "id": "134cf4d6",
   "metadata": {},
   "outputs": [
    {
     "name": "stdout",
     "output_type": "stream",
     "text": [
      "Enter start range: 10\n",
      "Enter end range: 20\n",
      "Enter step value: 3\n",
      "10 13 16 19 "
     ]
    }
   ],
   "source": [
    "n = int(input(\"Enter start range: \"))\n",
    "m = int(input(\"Enter end range: \"))\n",
    "s = int(input(\"Enter step value: \"))\n",
    "for i in range(n,m,s):\n",
    "    print(i,end=\" \")"
   ]
  },
  {
   "cell_type": "markdown",
   "id": "48c16597",
   "metadata": {},
   "source": [
    "### While:\n",
    "    Syntax:\n",
    "        initialization\n",
    "        while condition:\n",
    "            //statements\n",
    "            incre/decr"
   ]
  },
  {
   "cell_type": "code",
   "execution_count": 3,
   "id": "f168dec5",
   "metadata": {},
   "outputs": [
    {
     "name": "stdout",
     "output_type": "stream",
     "text": [
      "Enter a range: 20\n",
      "0 1 2 3 4 5 6 7 8 9 10 11 12 13 14 15 16 17 18 19 "
     ]
    }
   ],
   "source": [
    "i = 0\n",
    "n = int(input(\"Enter a range: \"))\n",
    "while n>i:\n",
    "    print(i,end=\" \")\n",
    "    i+=1"
   ]
  },
  {
   "cell_type": "code",
   "execution_count": 4,
   "id": "f586b92f",
   "metadata": {},
   "outputs": [
    {
     "name": "stdout",
     "output_type": "stream",
     "text": [
      "Enter a range: 20\n",
      "19 18 17 16 15 14 13 12 11 10 9 8 7 6 5 4 3 2 1 0 "
     ]
    }
   ],
   "source": [
    "k = int(input(\"Enter a range: \"))\n",
    "while k!=0:\n",
    "    k-=1\n",
    "    print(k,end=\" \")"
   ]
  },
  {
   "cell_type": "code",
   "execution_count": 5,
   "id": "bd941e0f",
   "metadata": {},
   "outputs": [
    {
     "name": "stdout",
     "output_type": "stream",
     "text": [
      "Enter a number: 465468\n",
      "Entered number is: 465468\n",
      "Reverse of 465468 is: 864564\n"
     ]
    }
   ],
   "source": [
    "n = int(input(\"Enter a number: \"))\n",
    "r,k = 0,n\n",
    "while n!=0:\n",
    "    r = r*10+n%10\n",
    "    n //= 10\n",
    "print(f\"Entered number is: {k}\")\n",
    "print(f\"Reverse of {k} is: {r}\")"
   ]
  },
  {
   "cell_type": "markdown",
   "id": "9d25c151",
   "metadata": {},
   "source": [
    "### Jumping Statements:\n",
    "    - break\n",
    "    - continue\n",
    "    - pass\n",
    "    - return"
   ]
  },
  {
   "cell_type": "code",
   "execution_count": null,
   "id": "d94ab702",
   "metadata": {},
   "outputs": [],
   "source": []
  }
 ],
 "metadata": {
  "kernelspec": {
   "display_name": "Python 3 (ipykernel)",
   "language": "python",
   "name": "python3"
  },
  "language_info": {
   "codemirror_mode": {
    "name": "ipython",
    "version": 3
   },
   "file_extension": ".py",
   "mimetype": "text/x-python",
   "name": "python",
   "nbconvert_exporter": "python",
   "pygments_lexer": "ipython3",
   "version": "3.9.13"
  }
 },
 "nbformat": 4,
 "nbformat_minor": 5
}
